{
 "cells": [
  {
   "cell_type": "code",
   "execution_count": 4,
   "metadata": {},
   "outputs": [],
   "source": [
    "import numpy as np\n",
    "import matplotlib.pyplot as plt"
   ]
  },
  {
   "cell_type": "code",
   "execution_count": 102,
   "metadata": {},
   "outputs": [
    {
     "name": "stdout",
     "output_type": "stream",
     "text": [
      "(401, 4096)\n",
      "(9, 4096)\n",
      "[0.]\n"
     ]
    },
    {
     "data": {
      "image/png": "[encoded data removed]",
      "text/plain": [
       "<Figure size 432x288 with 1 Axes>"
      ]
     },
     "metadata": {
      "needs_background": "light"
     },
     "output_type": "display_data"
    }
   ],
   "source": [
    "X = np.load('C:/Users/Rushad/Desktop/handsign-recog/data/X.npy')\n",
    "Y = np.load('C:/Users/Rushad/Desktop/handsign-recog/data/Y.npy')\n",
    "\n",
    "x = np.concatenate((X[204:409], X[822:1027] ), axis=0)\n",
    "y = np.concatenate((np.zeros(205), np.ones(205)), axis=0).reshape(x.shape[0],1)\n",
    "\n",
    "train_pct_index = int(0.98 * len(x))\n",
    "x_train, x_test = x[:train_pct_index], x[train_pct_index:]\n",
    "y_train, y_test = y[:train_pct_index], y[train_pct_index:]\n",
    "\n",
    "x_train_flatten = x_train.reshape(x_train.shape[0],x_train.shape[1]*x_train.shape[2])\n",
    "x_test_flatten = x_test .reshape(x_test.shape[0],x_test.shape[1]*x_test.shape[2])\n",
    "\n",
    "print(x_train_flatten.shape)\n",
    "print(x_test_flatten.shape)\n",
    "plt.imshow(x_train[120])\n",
    "print(y_train[120])"
   ]
  },
  {
   "cell_type": "code",
   "execution_count": 70,
   "metadata": {},
   "outputs": [],
   "source": [
    "def para_init(layer_dims, iterations):\n",
    "    \"\"\"\n",
    "    Initialize parameters of NN\n",
    "    \"\"\"\n",
    "    parameters = {}\n",
    "\n",
    "    for l in range(1, len(layer_dims)):\n",
    "        parameters[\"W\" + str(l)] = np.random.rand(layer_dims[l], layer_dims[l-1]) * np.sqrt(1/iterations)\n",
    "        parameters[\"b\" + str(l)] = np.random.rand(layer_dims[l], 1)\n",
    "    \n",
    "    return parameters"
   ]
  },
  {
   "cell_type": "code",
   "execution_count": 90,
   "metadata": {},
   "outputs": [],
   "source": [
    "def sigmoid(z):\n",
    "    '''\n",
    "    Sigmoid activation function\n",
    "    '''\n",
    "    a = 1/(1 + np.exp(-z))\n",
    "    return a"
   ]
  },
  {
   "cell_type": "code",
   "execution_count": 91,
   "metadata": {},
   "outputs": [],
   "source": [
    "parameters = para_init(layer_dims=[x_train_flatten.shape[1], x_train_flatten.shape[1], 8, 2, 1] , iterations=100)"
   ]
  },
  {
   "cell_type": "code",
   "execution_count": 97,
   "metadata": {},
   "outputs": [],
   "source": [
    "def forward_prop():\n",
    "    \"\"\"\n",
    "    Implementation of forward propogation\n",
    "    \"\"\"\n",
    "    w1 = parameters['W1']\n",
    "    w2 = parameters['W2']\n",
    "    w3 = parameters['W3']\n",
    "    w4 = parameters['W4']\n",
    "    \n",
    "    b1 = parameters['b1']\n",
    "    b2 = parameters['b2']\n",
    "    b3 = parameters['b3']\n",
    "    b4 = parameters['b4']\n",
    "    \n",
    "    z1 = np.dot(w1, x_train_flatten.T) + b1\n",
    "    a1 = sigmoid(z1)\n",
    "    z2 = np.dot(w2, a1) + b2\n",
    "    a2 = sigmoid(z2)\n",
    "    z3 = np.dot(w3, a2) + b3\n",
    "    a3 = sigmoid(z3)\n",
    "    z4 = np.dot(w4, a3) + b4\n",
    "    a4 = sigmoid(z4)\n",
    "    \n",
    "    cache = {\"Z1\": z1,\n",
    "             \"A1\": a1,\n",
    "             \"Z2\": z2,\n",
    "             \"A2\": a2,\n",
    "             \"Z3\": z3,\n",
    "             \"A3\": a3,\n",
    "             \"Z4\": z4,\n",
    "             \"A4\": a4}\n",
    "\n",
    "    return a4, cache"
   ]
  },
  {
   "cell_type": "code",
   "execution_count": null,
   "metadata": {},
   "outputs": [],
   "source": [
    "def cost_function(a4):\n",
    "    '''\n",
    "    Computation of corss-entropy cost function\n",
    "    '''\n",
    "    m = y_train.shape[0]\n",
    "    logprob = np.multiply(y_train, np.log(a4)) + np.multiply((1 - y_train), np.log(1 - a4))\n",
    "    cost -= np.sum(logprob)/m"
   ]
  }
 ],
 "metadata": {
  "kernelspec": {
   "display_name": "Python 3",
   "language": "python",
   "name": "python3"
  },
  "language_info": {
   "codemirror_mode": {
    "name": "ipython",
    "version": 3
   },
   "file_extension": ".py",
   "mimetype": "text/x-python",
   "name": "python",
   "nbconvert_exporter": "python",
   "pygments_lexer": "ipython3",
   "version": "3.7.3"
  }
 },
 "nbformat": 4,
 "nbformat_minor": 2
}
