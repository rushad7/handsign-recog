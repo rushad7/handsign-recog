{
 "cells": [
  {
   "cell_type": "code",
   "execution_count": 1,
   "metadata": {},
   "outputs": [],
   "source": [
    "import numpy as np\n",
    "import matplotlib.pyplot as plt"
   ]
  },
  {
   "cell_type": "code",
   "execution_count": 184,
   "metadata": {},
   "outputs": [
    {
     "name": "stdout",
     "output_type": "stream",
     "text": [
      "train_set_x shape: (4096, 328)\n",
      "train_set_y shape: (1, 328)\n",
      "test_set_x shape: (4096, 82)\n",
      "test_set_y shape: (1, 82)\n",
      "0.0\n"
     ]
    },
    {
     "data": {
      "image/png": "[encoded data removed]",
      "text/plain": [
       "<Figure size 432x288 with 1 Axes>"
      ]
     },
     "metadata": {
      "needs_background": "light"
     },
     "output_type": "display_data"
    }
   ],
   "source": [
    "X = np.load('C:/Users/Rushad/Desktop/handsign-recog/data/X.npy')\n",
    "Y = np.load('C:/Users/Rushad/Desktop/handsign-recog/data/Y.npy')\n",
    "\n",
    "x = np.concatenate((X[204:409], X[822:1027] ), axis=0)\n",
    "y = np.concatenate((np.zeros(205), np.ones(205)), axis=0).reshape(x.shape[0],1)\n",
    "\n",
    "train_pct_index = int(0.8 * len(x))\n",
    "x_train, x_test = x[:train_pct_index], x[train_pct_index:]\n",
    "y_train, y_test = y[:train_pct_index].T, y[train_pct_index:].T\n",
    "\n",
    "x_train_flatten = x_train.reshape(x_train.shape[0], -1).T\n",
    "x_test_flatten = x_test.reshape(x_test.shape[0], -1).T\n",
    "\n",
    "print (\"train_set_x shape: \" + str(x_train_flatten.shape))\n",
    "print (\"train_set_y shape: \" + str(y_train.shape))\n",
    "print (\"test_set_x shape: \" + str(x_test_flatten.shape))\n",
    "print (\"test_set_y shape: \" + str(y_test.shape))\n",
    "\n",
    "plt.imshow(x_train[120])\n",
    "print(y_train[0][120])"
   ]
  },
  {
   "cell_type": "code",
   "execution_count": 216,
   "metadata": {},
   "outputs": [],
   "source": [
    "def para_init(dim, num_iterations):\n",
    "    \"\"\"\n",
    "    Initialize parameters of LR\n",
    "    \"\"\"\n",
    "    w = np.zeros(shape=(dim,1))*np.sqrt(1/num_iterations)\n",
    "    b = 0\n",
    "    \n",
    "    assert(w.shape == (dim,1))\n",
    "    assert(isinstance(b, float) or isinstance(b, int))\n",
    "    \n",
    "    return w, b"
   ]
  },
  {
   "cell_type": "code",
   "execution_count": 186,
   "metadata": {},
   "outputs": [],
   "source": [
    "def sigmoid(z):\n",
    "    '''\n",
    "    Sigmoid activation function\n",
    "    '''\n",
    "    a = 1/(1 + np.exp(-z))\n",
    "    \n",
    "    return a"
   ]
  },
  {
   "cell_type": "code",
   "execution_count": 187,
   "metadata": {},
   "outputs": [],
   "source": [
    "def propagate(w, b, X, Y):\n",
    "    \"\"\"\n",
    "    Implement the cost function and its gradient for the propagation\n",
    "\n",
    "    \"\"\"\n",
    "    \n",
    "    m = X.shape[1]\n",
    "    \n",
    "    # FORWARD PROPAGATION\n",
    "    A = sigmoid(np.dot(w.T, X) + b)\n",
    "\n",
    "    cost = (- 1 / m) * np.sum(Y * np.log(A) + (1 - Y) * (np.log(1 - A)))\n",
    "    \n",
    "    # BACKWARD PROPAGATION\n",
    "    dw = (1 / m) * np.dot(X, (A - Y).T)\n",
    "    db = (1 / m) * np.sum(A - Y)\n",
    "    \n",
    "    assert(dw.shape == w.shape)\n",
    "    assert(db.dtype == float)\n",
    "    cost = np.squeeze(cost)\n",
    "    assert(cost.shape == ())\n",
    "    grads = {\"dw\": dw, \"db\": db}\n",
    "    \n",
    "    return grads, cost"
   ]
  },
  {
   "cell_type": "code",
   "execution_count": 189,
   "metadata": {},
   "outputs": [],
   "source": [
    "def optimize(w, b, X, Y, num_iterations, learning_rate, print_cost = False):\n",
    "    \"\"\"\n",
    "    This function optimizes w and b by running a gradient descent algorithm\n",
    "\n",
    "    \"\"\"\n",
    "    \n",
    "    costs = []\n",
    "    \n",
    "    for i in range(num_iterations):\n",
    "        \n",
    "    \n",
    "        grads, cost = propagate(w, b, X, Y)\n",
    "        \n",
    "        dw = grads[\"dw\"]\n",
    "        db = grads[\"db\"]\n",
    "\n",
    "        w = w - learning_rate * dw\n",
    "        b = b - learning_rate * db\n",
    "\n",
    "        if i % 100 == 0:\n",
    "            costs.append(cost)\n",
    "        \n",
    "        if print_cost and i % 100 == 0:\n",
    "            print (\"Cost after iteration %i: %f\" % (i, cost))\n",
    "    \n",
    "    global params\n",
    "    params = {\"w\": w,\n",
    "              \"b\": b}\n",
    "    \n",
    "    grads = {\"dw\": dw,\n",
    "             \"db\": db}\n",
    "    \n",
    "    return params, grads, costs"
   ]
  },
  {
   "cell_type": "code",
   "execution_count": 191,
   "metadata": {},
   "outputs": [],
   "source": [
    "def predict(w, b, X):\n",
    "    '''\n",
    "    Predict whether the label is 0 or 1 using learned logistic regression parameters (w, b)\n",
    "\n",
    "    '''\n",
    "    m = X.shape[1]\n",
    "    Y_prediction = np.zeros((1, m))\n",
    "    w = w.reshape(X.shape[0], 1)\n",
    "    \n",
    "    A = sigmoid(np.dot(w.T, X) + b)\n",
    "    \n",
    "    for i in range(A.shape[1]):\n",
    "        Y_prediction[0, i] = 1 if A[0, i] > 0.5 else 0\n",
    "    \n",
    "    return Y_prediction"
   ]
  },
  {
   "cell_type": "code",
   "execution_count": 190,
   "metadata": {},
   "outputs": [],
   "source": [
    "def model(X_train, Y_train, X_test, Y_test, num_iterations=500, learning_rate=0.5, print_cost=False):\n",
    "    \"\"\"\n",
    "    Builds the logistic regression model\n",
    "    \"\"\"\n",
    "    w, b = para_init(x_train_flatten.shape[0], num_iterations)\n",
    "\n",
    "    parameters, grads, costs = optimize(w, b, X_train, Y_train, num_iterations, learning_rate, print_cost)\n",
    "    \n",
    "    w = parameters[\"w\"]\n",
    "    b = parameters[\"b\"]\n",
    "    \n",
    "    Y_prediction_test = predict(w, b, X_test)\n",
    "    Y_prediction_train = predict(w, b, X_train)\n",
    "\n",
    "    print(\"train accuracy: {} %\".format(100 - np.mean(np.abs(Y_prediction_train - Y_train)) * 100))\n",
    "    print(\"test accuracy: {} %\".format(100 - np.mean(np.abs(Y_prediction_test - Y_test)) * 100))\n",
    "\n",
    "    \n",
    "    d = {\"costs\": costs,\n",
    "         \"Y_prediction_test\": Y_prediction_test, \n",
    "         \"Y_prediction_train\" : Y_prediction_train, \n",
    "         \"w\" : w, \n",
    "         \"b\" : b,\n",
    "         \"learning_rate\" : learning_rate,\n",
    "         \"num_iterations\": num_iterations}\n",
    "    \n",
    "    return d"
   ]
  },
  {
   "cell_type": "code",
   "execution_count": 218,
   "metadata": {},
   "outputs": [
    {
     "name": "stdout",
     "output_type": "stream",
     "text": [
      "Cost after iteration 0: 0.693147\n",
      "Cost after iteration 100: 0.360039\n",
      "Cost after iteration 200: 0.272093\n",
      "Cost after iteration 300: 0.227592\n",
      "Cost after iteration 400: 0.199815\n",
      "Cost after iteration 500: 0.180453\n",
      "Cost after iteration 600: 0.165966\n",
      "Cost after iteration 700: 0.154573\n",
      "Cost after iteration 800: 0.145280\n",
      "Cost after iteration 900: 0.137483\n",
      "Cost after iteration 1000: 0.130797\n",
      "Cost after iteration 1100: 0.124962\n",
      "Cost after iteration 1200: 0.119796\n",
      "Cost after iteration 1300: 0.115169\n",
      "Cost after iteration 1400: 0.110983\n",
      "Cost after iteration 1500: 0.107166\n",
      "Cost after iteration 1600: 0.103661\n",
      "Cost after iteration 1700: 0.100423\n",
      "Cost after iteration 1800: 0.097416\n",
      "Cost after iteration 1900: 0.094612\n",
      "Cost after iteration 2000: 0.091987\n",
      "Cost after iteration 2100: 0.089521\n",
      "Cost after iteration 2200: 0.087197\n",
      "Cost after iteration 2300: 0.085001\n",
      "Cost after iteration 2400: 0.082921\n",
      "Cost after iteration 2500: 0.080947\n",
      "Cost after iteration 2600: 0.079070\n",
      "Cost after iteration 2700: 0.077281\n",
      "Cost after iteration 2800: 0.075575\n",
      "Cost after iteration 2900: 0.073944\n",
      "train accuracy: 98.47560975609755 %\n",
      "test accuracy: 92.6829268292683 %\n"
     ]
    }
   ],
   "source": [
    "d = model(x_train_flatten, y_train, x_test_flatten, y_test, num_iterations = 3000, learning_rate = 0.005, print_cost = True)"
   ]
  },
  {
   "cell_type": "code",
   "execution_count": 225,
   "metadata": {},
   "outputs": [
    {
     "name": "stdout",
     "output_type": "stream",
     "text": [
      "Number shown is : 0\n"
     ]
    },
    {
     "data": {
      "image/png": "[encoded data removed]",
      "text/plain": [
       "<Figure size 432x288 with 1 Axes>"
      ]
     },
     "metadata": {
      "needs_background": "light"
     },
     "output_type": "display_data"
    }
   ],
   "source": [
    "w = params['w']\n",
    "b = params['b']\n",
    "y_pred = sigmoid(np.dot(w.T, x_test[3].reshape(4096,1)))\n",
    "print(\"Number shown is : \" + str(round(int((y_pred)))))\n",
    "plt.imshow(x_test[3])\n",
    "plt.show()"
   ]
  }
 ],
 "metadata": {
  "kernelspec": {
   "display_name": "Python 3",
   "language": "python",
   "name": "python3"
  },
  "language_info": {
   "codemirror_mode": {
    "name": "ipython",
    "version": 3
   },
   "file_extension": ".py",
   "mimetype": "text/x-python",
   "name": "python",
   "nbconvert_exporter": "python",
   "pygments_lexer": "ipython3",
   "version": "3.7.3"
  }
 },
 "nbformat": 4,
 "nbformat_minor": 2
}
