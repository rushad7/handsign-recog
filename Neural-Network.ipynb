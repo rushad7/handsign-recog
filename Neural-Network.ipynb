{
 "cells": [
  {
   "cell_type": "code",
   "execution_count": 80,
   "metadata": {},
   "outputs": [],
   "source": [
    "import numpy as np\n",
    "import matplotlib.pyplot as plt\n",
    "\n",
    "%matplotlib inline\n",
    "np.random.seed(1)"
   ]
  },
  {
   "cell_type": "code",
   "execution_count": 106,
   "metadata": {},
   "outputs": [
    {
     "name": "stdout",
     "output_type": "stream",
     "text": [
      "Training Data X : (4096, 328)\n",
      "Training Data Y : (1, 328)\n",
      "Test Data X : (4096, 82)\n",
      "Trest Data Y : (1, 82)\n",
      "Test image shows a : 0\n"
     ]
    },
    {
     "data": {
      "image/png": "[encoded data removed]",
      "text/plain": [
       "<Figure size 432x288 with 1 Axes>"
      ]
     },
     "metadata": {
      "needs_background": "light"
     },
     "output_type": "display_data"
    }
   ],
   "source": [
    "X = np.load('C:/Users/Rushad/Desktop/handsign-recog/data/X.npy')\n",
    "Y = np.load('C:/Users/Rushad/Desktop/handsign-recog/data/Y.npy')\n",
    "\n",
    "x = np.concatenate((X[204:409], X[822:1027] ), axis=0)\n",
    "y = np.concatenate((np.zeros(205), np.ones(205)), axis=0).reshape(x.shape[0],1)\n",
    "\n",
    "train_pct_index = int(0.8 * len(x))\n",
    "x_train, x_test = x[:train_pct_index], x[train_pct_index:]\n",
    "y_train, y_test = y[:train_pct_index].T, y[train_pct_index:].T\n",
    "\n",
    "train_Xflat = x_train.reshape(-1, x_train.shape[0])\n",
    "test_Xflat = x_test.reshape(-1, x_test.shape[0])\n",
    "\n",
    "print(\"Training Data X : \" + str(train_Xflat.shape))\n",
    "print(\"Training Data Y : \" + str(y_train.shape))\n",
    "print(\"Test Data X : \" + str(test_Xflat.shape))\n",
    "print(\"Trest Data Y : \" + str(y_test.shape))\n",
    "\n",
    "plt.imshow(x_train[120])\n",
    "print(\"Test image shows a : \" + str(round(float(y_train[0][120]))))"
   ]
  },
  {
   "cell_type": "code",
   "execution_count": 81,
   "metadata": {},
   "outputs": [],
   "source": [
    "def initialize_parameters(layerdims):\n",
    "    '''layerdims: List containing no. of units in each layer\n",
    "    '''\n",
    "    parameters={}\n",
    "    L = len(layerdims)\n",
    "    for i in range(1, L):\n",
    "        parameters[\"W\"+str(i)] = np.random.randn( layerdims[i], layerdims[i-1]) * 0.1\n",
    "        parameters[\"b\"+str(i)] = np.zeros( (layerdims[i],1))\n",
    "        \n",
    "    return parameters"
   ]
  },
  {
   "cell_type": "code",
   "execution_count": 82,
   "metadata": {},
   "outputs": [],
   "source": [
    "def forward(A_prev, W, b, activation):\n",
    "    ''' Forward Propagation for Single layer\n",
    "    '''\n",
    "    # Linear \n",
    "    Z = np.add( np.dot(W,A_prev), b)\n",
    "    \n",
    "    # Activation Function \n",
    "    if activation== \"sigmoid\":\n",
    "        A=1/(1+np.exp(-Z))\n",
    "        \n",
    "    if activation== \"relu\":\n",
    "        A = np.maximum(0,Z)\n",
    "        \n",
    "    cache=(A_prev,W,b,Z)\n",
    "    \n",
    "    return A, cache"
   ]
  },
  {
   "cell_type": "code",
   "execution_count": 83,
   "metadata": {},
   "outputs": [],
   "source": [
    "def L_layer_forward(X, parameters, layerdims):\n",
    "    ''' Forward propagation for L-layer\n",
    "    '''\n",
    "    caches=[]\n",
    "    L =  len(layerdims)-1\n",
    "    A = X\n",
    "    \n",
    "    \n",
    "    # L[0] is units for Input layer\n",
    "    # [LINEAR -> RELU]*(L-1)    Forward for L-1 layers \n",
    "    for l in range(1,L):\n",
    "        A_prev = A\n",
    "        A, cache=forward(A_prev, parameters[\"W\"+str(l)], parameters[\"b\"+str(l)], \"relu\")\n",
    "        caches.append(cache)\n",
    "      \n",
    "    # Forward for Last layer\n",
    "    # [Linear -> sigmoid]\n",
    "    y_hat, cache=forward(A, parameters[\"W\"+str(l+1)], parameters[\"b\"+str(l+1)], \"sigmoid\")\n",
    "    caches.append(cache)\n",
    "    \n",
    "    return y_hat, caches"
   ]
  },
  {
   "cell_type": "code",
   "execution_count": 84,
   "metadata": {},
   "outputs": [],
   "source": [
    "def compute_cost(y_hat, Y):\n",
    "    '''Computes the Loss\n",
    "    '''\n",
    "    m = Y.shape[1]\n",
    "    costt = np.add(  np.multiply(Y, np.log(y_hat)) ,  np.multiply(1-Y, np.log(1-y_hat))  ) \n",
    "    cost = (-1/m) * np.sum(costt, axis=1)\n",
    "    \n",
    "    return cost"
   ]
  },
  {
   "cell_type": "code",
   "execution_count": 85,
   "metadata": {},
   "outputs": [],
   "source": [
    "def backward(dA,  cache, activation):\n",
    "    '''Backward propagation for single layer\n",
    "    '''\n",
    "    A_prev,W,b,Z = cache\n",
    "    m= A_prev.shape[1]\n",
    "    \n",
    "    # Computing derivative of Cost wrt Z\n",
    "    \n",
    "    # dA, Z, \n",
    "    if activation == \"relu\":\n",
    "        dZ = np.array(dA, copy=True)\n",
    "        dZ[Z <=0] =0\n",
    "        \n",
    "    if activation == \"sigmoid\":\n",
    "        s = 1/(1+np.exp(-Z))\n",
    "        dZ = dA * s * (1-s)\n",
    "        \n",
    "    \n",
    "    # Computing derivative of Cost wrt A & W  & b\n",
    "    dA_prev = np.dot(W.transpose(), dZ)\n",
    "    dW = (1/m) * np.dot(dZ, A_prev.transpose())\n",
    "    db = (1/m) * np.sum(dZ, axis=1, keepdims=True)\n",
    "   \n",
    "    \n",
    "    return dA_prev, dW, db"
   ]
  },
  {
   "cell_type": "code",
   "execution_count": 86,
   "metadata": {},
   "outputs": [],
   "source": [
    "def L_layer_backward(y_hat, Y, caches, layerdims):\n",
    "    ''' Backward Propogation from layer L to 1\n",
    "    '''\n",
    "    AL = y_hat \n",
    "    L = len(layerdims) -1\n",
    "    grads={}\n",
    "    \n",
    "    # Intializing Backpropagation\n",
    "    \n",
    "    # Compute derivation of Cost wrt A\n",
    "    dAL = -(np.divide(Y,AL) - np.divide(1-Y, 1-AL))\n",
    "    \n",
    "    \n",
    "    # Compute derivative of Lth layer (Sigmoid -> Linear) gradients. \n",
    "    # Inputs: (AL, Y, caches)     Outputs: (grad[\"dAL\"], grad[\"dWL] , grad[\"dbL\"])\n",
    "    grads[\"dA\"+str(L)], grads[\"dW\"+str(L)], grads[\"db\"+str(L)] = backward(dAL, caches[-1], activation=\"sigmoid\")\n",
    "    \n",
    "   \n",
    "    # Compute derivative for (1,2,..L-1)layers (relu -> Linear) gradients.\n",
    "    # Inputs:(grads[dAL], caches)   Outputs:(grads(dA_i, dW_i, db_i) )\n",
    "    \n",
    "   \n",
    "    for i in list(reversed(range(L-1))):                       \n",
    "        \n",
    "        current_cache = caches[i]\n",
    "        \n",
    "        a,b,c=backward(grads[\"dA\"+str(i+2)], current_cache, activation=\"relu\")\n",
    "        grads[\"dA\"+str(i+1)] = a\n",
    "        grads[\"dW\"+str(i+1)] = b\n",
    "        grads[\"db\"+str(i+1)] = c\n",
    "        \n",
    "    return grads"
   ]
  },
  {
   "cell_type": "code",
   "execution_count": 87,
   "metadata": {},
   "outputs": [],
   "source": [
    "def update_params(params, grads, learning_rate):\n",
    "    '''\n",
    "        Parameter update using Gradient descent\n",
    "    '''\n",
    "    # As each layer has 2 parameters (W,b)\n",
    "    L=len(params) // 2\n",
    "    \n",
    "    for l in range(L):\n",
    "        params[\"W\"+str(l+1)] = params[\"W\"+str(l+1)] - learning_rate * grads[\"dW\"+str(l+1)]\n",
    "        params[\"b\"+str(l+1)] = params[\"b\"+str(l+1)] - learning_rate * grads[\"db\"+str(l+1)]\n",
    "        \n",
    "    return params"
   ]
  },
  {
   "cell_type": "code",
   "execution_count": 121,
   "metadata": {},
   "outputs": [],
   "source": [
    "def nn_model_train(X, Y, layer_dims, learning_rate, num_itr, parameters, initialize=False):\n",
    "    ''' Implements a L-layer NN: .\n",
    "    '''\n",
    "    costs=[]\n",
    "    \n",
    "    if initialize:\n",
    "        parameters = initialize_parameters(layer_dims)\n",
    "    \n",
    "   \n",
    "    # Gradient Descent\n",
    "    for i in range(num_itr):\n",
    "        \n",
    "        # Forward propagation: [LINEAR -> RELU]*(L-1) -> LINEAR -> SIGMOID\n",
    "        y_hat, caches = L_layer_forward(X, parameters, layer_dims)\n",
    "\n",
    "        # Compute Cost\n",
    "        cost = compute_cost(y_hat, Y)\n",
    "\n",
    "        # Backward propagation\n",
    "        grads = L_layer_backward(y_hat, Y, caches, layer_dims)\n",
    "\n",
    "        # Update Parameters\n",
    "        parameters = update_params(parameters, grads, learning_rate)\n",
    "        \n",
    "        if i%200 ==0:\n",
    "            print(f\"cost {i}: {np.squeeze(cost)}\")\n",
    "        if i%100 ==0:\n",
    "            costs.append(cost[0])\n",
    "\n",
    "    # Ploting the Cost\n",
    "    plt.plot(costs)\n",
    "    plt.xlabel(\"n iteration\")\n",
    "    plt.ylabel(\"cost\")\n",
    "    \n",
    "    return parameters"
   ]
  },
  {
   "cell_type": "code",
   "execution_count": 124,
   "metadata": {},
   "outputs": [],
   "source": [
    "def predict(X,Y, parameters):\n",
    "    '''\n",
    "    Predict probablity (y) of given input X\n",
    "    '''\n",
    "    m= X.shape[1]\n",
    "    # forward propagation\n",
    "    y_hat, caches = L_layer_forward(X, parameters, layer_dims)\n",
    "    \n",
    "    y_hat=y_hat.reshape(-1)\n",
    "    predicted=np.where(y_hat>0.5, 1, 0)\n",
    "    \n",
    "    accuracy = np.sum(predicted == Y) / m\n",
    "     \n",
    "    return(accuracy, predicted)"
   ]
  },
  {
   "cell_type": "code",
   "execution_count": 157,
   "metadata": {},
   "outputs": [
    {
     "name": "stdout",
     "output_type": "stream",
     "text": [
      "cost 0: 0.6587657920957135\n",
      "cost 200: 0.6582205898032185\n",
      "cost 400: 0.6575473563652694\n",
      "cost 600: 0.656697185244502\n",
      "cost 800: 0.655579078841403\n",
      "cost 1000: 0.6540498997675128\n",
      "cost 1200: 0.6518646154956185\n",
      "cost 1400: 0.6485646418306144\n",
      "cost 1600: 0.6433107419658723\n",
      "cost 1800: 0.6343386301805622\n"
     ]
    },
    {
     "data": {
      "image/png": "[encoded data removed]",
      "text/plain": [
       "<Figure size 432x288 with 1 Axes>"
      ]
     },
     "metadata": {
      "needs_background": "light"
     },
     "output_type": "display_data"
    }
   ],
   "source": [
    "layer_dims = [4096, 20, 7, 5, 1]\n",
    "parameters = nn_model_train(train_Xflat, y_train, layer_dims, 0.005, 3000, parameters, initialize=False)"
   ]
  },
  {
   "cell_type": "code",
   "execution_count": 158,
   "metadata": {},
   "outputs": [],
   "source": [
    "#cache the parameters in parameters.pkl file and load them back from the file\n",
    "import pickle\n",
    "pickle.dump(parameters, open('parameters.pkl', 'wb'))\n",
    "parameters = pickle.load(open(\"parameters.pkl\", 'rb'))"
   ]
  },
  {
   "cell_type": "code",
   "execution_count": 159,
   "metadata": {},
   "outputs": [
    {
     "name": "stdout",
     "output_type": "stream",
     "text": [
      "Train Data Accuracy:0.625\n"
     ]
    }
   ],
   "source": [
    "train_accuracy, train_predictedValues = predict(train_Xflat, y_train, parameters)\n",
    "print(\"Train Data Accuracy:\" + str(train_accuracy))"
   ]
  }
 ],
 "metadata": {
  "kernelspec": {
   "display_name": "Python 3",
   "language": "python",
   "name": "python3"
  },
  "language_info": {
   "codemirror_mode": {
    "name": "ipython",
    "version": 3
   },
   "file_extension": ".py",
   "mimetype": "text/x-python",
   "name": "python",
   "nbconvert_exporter": "python",
   "pygments_lexer": "ipython3",
   "version": "3.7.3"
  }
 },
 "nbformat": 4,
 "nbformat_minor": 2
}
