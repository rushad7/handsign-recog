{
 "cells": [
  {
   "cell_type": "code",
   "execution_count": 3,
   "metadata": {},
   "outputs": [],
   "source": [
    "import numpy\n",
    "import matplotlib.pyplot as plt"
   ]
  },
  {
   "cell_type": "code",
   "execution_count": 13,
   "metadata": {},
   "outputs": [],
   "source": [
    "def para_init(layer_dims):\n",
    "    \"\"\"\n",
    "    Initialize parameters of NN\n",
    "    \"\"\"\n",
    "    parameters = {}\n",
    "\n",
    "    for l in len(1, layer_dims):\n",
    "        parameters[\"W\" + str(l)] = np.random.rand(layer_dims[l], layer_dims[l-1]) * np.sqrt(1/iterations)\n",
    "        parameters[\"b\" + str(l)] = np.random.rand(layer_dims[l], 1)\n",
    "    \n",
    "    return parameters"
   ]
  },
  {
   "cell_type": "code",
   "execution_count": null,
   "metadata": {},
   "outputs": [],
   "source": [
    "def forward_prop():\n",
    "    \"\"\"\n",
    "    Implementation of forward propogation\n",
    "    \"\"\"\n",
    "    "
   ]
  }
 ],
 "metadata": {
  "kernelspec": {
   "display_name": "Python 3",
   "language": "python",
   "name": "python3"
  },
  "language_info": {
   "codemirror_mode": {
    "name": "ipython",
    "version": 3
   },
   "file_extension": ".py",
   "mimetype": "text/x-python",
   "name": "python",
   "nbconvert_exporter": "python",
   "pygments_lexer": "ipython3",
   "version": "3.7.3"
  }
 },
 "nbformat": 4,
 "nbformat_minor": 2
}
